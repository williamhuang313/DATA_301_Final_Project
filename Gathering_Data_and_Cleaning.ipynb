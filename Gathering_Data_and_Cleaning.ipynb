{
  "nbformat": 4,
  "nbformat_minor": 0,
  "metadata": {
    "colab": {
      "name": "Gathering_Data_and_Cleaning.ipynb",
      "provenance": [],
      "collapsed_sections": []
    },
    "kernelspec": {
      "name": "python3",
      "display_name": "Python 3"
    }
  },
  "cells": [
    {
      "cell_type": "code",
      "metadata": {
        "id": "7UkwTDrg8XDB",
        "colab_type": "code",
        "colab": {}
      },
      "source": [
        "import pandas as pd\n",
        "import requests \n",
        "import time\n",
        "from pandas.io.json import json_normalize"
      ],
      "execution_count": 0,
      "outputs": []
    },
    {
      "cell_type": "code",
      "metadata": {
        "id": "TY2yYDvIKPDf",
        "colab_type": "code",
        "outputId": "a03c2ac2-bc82-449b-e150-d67984e80ec9",
        "colab": {
          "base_uri": "https://localhost:8080/",
          "height": 361
        }
      },
      "source": [
        "response = requests.get(\"https://data.iowa.gov/resource/runv-jsix.json\")\n",
        "crimes = response.json()\n",
        "df_inst = json_normalize(crimes)\n",
        "df_inst.head()"
      ],
      "execution_count": 0,
      "outputs": [
        {
          "output_type": "execute_result",
          "data": {
            "text/html": [
              "<div>\n",
              "<style scoped>\n",
              "    .dataframe tbody tr th:only-of-type {\n",
              "        vertical-align: middle;\n",
              "    }\n",
              "\n",
              "    .dataframe tbody tr th {\n",
              "        vertical-align: top;\n",
              "    }\n",
              "\n",
              "    .dataframe thead th {\n",
              "        text-align: right;\n",
              "    }\n",
              "</style>\n",
              "<table border=\"1\" class=\"dataframe\">\n",
              "  <thead>\n",
              "    <tr style=\"text-align: right;\">\n",
              "      <th></th>\n",
              "      <th>record_id</th>\n",
              "      <th>offender_number</th>\n",
              "      <th>release_date</th>\n",
              "      <th>fiscal_year_released</th>\n",
              "      <th>closure_type</th>\n",
              "      <th>supervision_status</th>\n",
              "      <th>institution_name</th>\n",
              "      <th>offender_first_name</th>\n",
              "      <th>offender_middle_name</th>\n",
              "      <th>offender_last_name</th>\n",
              "      <th>offender_date_of_birth</th>\n",
              "      <th>sex</th>\n",
              "      <th>race_ethnicity</th>\n",
              "      <th>age_at_release</th>\n",
              "      <th>offense_code</th>\n",
              "      <th>offense_class</th>\n",
              "      <th>offense_description</th>\n",
              "      <th>offense_type</th>\n",
              "      <th>offense_subtype</th>\n",
              "      <th>jurisdiction</th>\n",
              "      <th>admission_date</th>\n",
              "      <th>months_served</th>\n",
              "      <th>offender_suffix</th>\n",
              "    </tr>\n",
              "  </thead>\n",
              "  <tbody>\n",
              "    <tr>\n",
              "      <th>0</th>\n",
              "      <td>1.001E+11</td>\n",
              "      <td>1000998</td>\n",
              "      <td>2014-10-17T00:00:00.000</td>\n",
              "      <td>2015</td>\n",
              "      <td>Death</td>\n",
              "      <td>Prison</td>\n",
              "      <td>Anamosa State Penitentiary</td>\n",
              "      <td>Darrell</td>\n",
              "      <td>William</td>\n",
              "      <td>Starkey</td>\n",
              "      <td>1958-04-05T00:00:00.000</td>\n",
              "      <td>Male</td>\n",
              "      <td>White</td>\n",
              "      <td>56</td>\n",
              "      <td>707.3</td>\n",
              "      <td>B Felony</td>\n",
              "      <td>MURDER 2ND - 85%</td>\n",
              "      <td>Violent</td>\n",
              "      <td>Murder/Manslaughter</td>\n",
              "      <td>Montgomery</td>\n",
              "      <td>1997-11-25T00:00:00.000</td>\n",
              "      <td>202.9605263</td>\n",
              "      <td>NaN</td>\n",
              "    </tr>\n",
              "    <tr>\n",
              "      <th>1</th>\n",
              "      <td>10013440819</td>\n",
              "      <td>100134</td>\n",
              "      <td>2011-10-03T00:00:00.000</td>\n",
              "      <td>2012</td>\n",
              "      <td>Parole Granted</td>\n",
              "      <td>Prison</td>\n",
              "      <td>Mount Pleasant Correctional Facility</td>\n",
              "      <td>Scott</td>\n",
              "      <td>NaN</td>\n",
              "      <td>Schalla</td>\n",
              "      <td>1964-07-31T00:00:00.000</td>\n",
              "      <td>Male</td>\n",
              "      <td>White</td>\n",
              "      <td>47</td>\n",
              "      <td>714.2(2)</td>\n",
              "      <td>D Felony</td>\n",
              "      <td>THEFT 2ND DEGREE</td>\n",
              "      <td>Property</td>\n",
              "      <td>Theft</td>\n",
              "      <td>Johnson</td>\n",
              "      <td>2011-01-18T00:00:00.000</td>\n",
              "      <td>8.486842105</td>\n",
              "      <td>NaN</td>\n",
              "    </tr>\n",
              "    <tr>\n",
              "      <th>2</th>\n",
              "      <td>1004441173</td>\n",
              "      <td>10044</td>\n",
              "      <td>2012-09-21T00:00:00.000</td>\n",
              "      <td>2013</td>\n",
              "      <td>Work Release Granted</td>\n",
              "      <td>Prison</td>\n",
              "      <td>Mount Pleasant Correctional Facility</td>\n",
              "      <td>Dale</td>\n",
              "      <td>Laverne</td>\n",
              "      <td>Fleming</td>\n",
              "      <td>1959-11-24T00:00:00.000</td>\n",
              "      <td>Male</td>\n",
              "      <td>White</td>\n",
              "      <td>52</td>\n",
              "      <td>124.401(5)(c)</td>\n",
              "      <td>D Felony</td>\n",
              "      <td>Possession of a Controlled Substance - 3rd and...</td>\n",
              "      <td>Drug</td>\n",
              "      <td>Drug Possession</td>\n",
              "      <td>Henry</td>\n",
              "      <td>2012-02-06T00:00:00.000</td>\n",
              "      <td>7.5</td>\n",
              "      <td>NaN</td>\n",
              "    </tr>\n",
              "    <tr>\n",
              "      <th>3</th>\n",
              "      <td>10044640276</td>\n",
              "      <td>100446</td>\n",
              "      <td>2010-04-08T00:00:00.000</td>\n",
              "      <td>2010</td>\n",
              "      <td>Discharged - Expiration of Sentence</td>\n",
              "      <td>Prison</td>\n",
              "      <td>Mount Pleasant Correctional Facility</td>\n",
              "      <td>Dawn</td>\n",
              "      <td>Lynn</td>\n",
              "      <td>Dooley</td>\n",
              "      <td>1966-03-22T00:00:00.000</td>\n",
              "      <td>Female</td>\n",
              "      <td>White</td>\n",
              "      <td>44</td>\n",
              "      <td>321J.2(B)</td>\n",
              "      <td>Aggravated Misdemeanor</td>\n",
              "      <td>OPER VEH WH INT (OWI) / AGR MISD / 2ND OFF -</td>\n",
              "      <td>Public Order</td>\n",
              "      <td>OWI</td>\n",
              "      <td>Polk</td>\n",
              "      <td>2009-06-24T00:00:00.000</td>\n",
              "      <td>9.473684211</td>\n",
              "      <td>NaN</td>\n",
              "    </tr>\n",
              "    <tr>\n",
              "      <th>4</th>\n",
              "      <td>10046742541</td>\n",
              "      <td>100467</td>\n",
              "      <td>2016-06-20T00:00:00.000</td>\n",
              "      <td>2016</td>\n",
              "      <td>Parole Granted</td>\n",
              "      <td>Prison</td>\n",
              "      <td>Anamosa State Penitentiary</td>\n",
              "      <td>Edward</td>\n",
              "      <td>James</td>\n",
              "      <td>Wilkinson</td>\n",
              "      <td>1965-02-21T00:00:00.000</td>\n",
              "      <td>Male</td>\n",
              "      <td>White</td>\n",
              "      <td>51</td>\n",
              "      <td>124.401(5)(c)</td>\n",
              "      <td>D Felony</td>\n",
              "      <td>Possession of a Controlled Substance - 3rd and...</td>\n",
              "      <td>Drug</td>\n",
              "      <td>Drug Possession</td>\n",
              "      <td>Polk</td>\n",
              "      <td>2015-06-12T00:00:00.000</td>\n",
              "      <td>12.30263158</td>\n",
              "      <td>NaN</td>\n",
              "    </tr>\n",
              "  </tbody>\n",
              "</table>\n",
              "</div>"
            ],
            "text/plain": [
              "     record_id offender_number  ... months_served offender_suffix\n",
              "0    1.001E+11         1000998  ...   202.9605263             NaN\n",
              "1  10013440819          100134  ...   8.486842105             NaN\n",
              "2   1004441173           10044  ...           7.5             NaN\n",
              "3  10044640276          100446  ...   9.473684211             NaN\n",
              "4  10046742541          100467  ...   12.30263158             NaN\n",
              "\n",
              "[5 rows x 23 columns]"
            ]
          },
          "metadata": {
            "tags": []
          },
          "execution_count": 2
        }
      ]
    },
    {
      "cell_type": "code",
      "metadata": {
        "id": "LRuegKijZSIF",
        "colab_type": "code",
        "outputId": "18929876-a848-4f40-d080-e90a76540989",
        "colab": {
          "base_uri": "https://localhost:8080/",
          "height": 156
        }
      },
      "source": [
        "df_inst.columns"
      ],
      "execution_count": 0,
      "outputs": [
        {
          "output_type": "execute_result",
          "data": {
            "text/plain": [
              "Index(['record_id', 'offender_number', 'release_date', 'fiscal_year_released',\n",
              "       'closure_type', 'supervision_status', 'institution_name',\n",
              "       'offender_first_name', 'offender_middle_name', 'offender_last_name',\n",
              "       'offender_date_of_birth', 'sex', 'race_ethnicity', 'age_at_release',\n",
              "       'offense_code', 'offense_class', 'offense_description', 'offense_type',\n",
              "       'offense_subtype', 'jurisdiction', 'admission_date', 'months_served',\n",
              "       'offender_suffix'],\n",
              "      dtype='object')"
            ]
          },
          "metadata": {
            "tags": []
          },
          "execution_count": 3
        }
      ]
    },
    {
      "cell_type": "code",
      "metadata": {
        "id": "R4IljjKoKjWZ",
        "colab_type": "code",
        "outputId": "3cafd827-db84-47c4-8b04-cd46f52cb3ca",
        "colab": {
          "base_uri": "https://localhost:8080/",
          "height": 153
        }
      },
      "source": [
        "df_inst[\"institution_name\"].unique()"
      ],
      "execution_count": 0,
      "outputs": [
        {
          "output_type": "execute_result",
          "data": {
            "text/plain": [
              "array(['Anamosa State Penitentiary',\n",
              "       'Mount Pleasant Correctional Facility',\n",
              "       'Newton Correctional Facility',\n",
              "       'North Central Correctional Facility', 'Iowa State Penitentiary',\n",
              "       'Fort Dodge Correctional Facility',\n",
              "       'Clarinda Correctional Facility',\n",
              "       'Iowa Medical & Classification Center',\n",
              "       'Iowa Correctional Institution for Women'], dtype=object)"
            ]
          },
          "metadata": {
            "tags": []
          },
          "execution_count": 69
        }
      ]
    },
    {
      "cell_type": "code",
      "metadata": {
        "id": "QJVoJ5IZKlwc",
        "colab_type": "code",
        "colab": {}
      },
      "source": [
        "#Created new variable that records the security level of the prison.\n",
        "df_inst[\"institution_type\"] = df_inst[\"institution_name\"].fillna('0').map({\n",
        "    'Anamosa State Penitentiary' : \"Maximum\",\n",
        "    'Mount Pleasant Correctional Facility' : \"Minimum\",\n",
        "    'Newton Correctional Facility' : \"Medium\",\n",
        "    'North Central Correctional Facility' : \"Minimum\",\n",
        "    'Iowa State Penitentiary' : \"Maximum\", \n",
        "    'Fort Dodge Correctional Facility' : \"Medium\",\n",
        "    'Clarinda Correctional Facility' : \"Medium\",\n",
        "    'Iowa Medical & Classification Center' : \"Medium\",\n",
        "    'Iowa Correctional Institution for Women' : \"Minimum\",\n",
        "    \"0\" : \"N/A\"\n",
        "\n",
        "})"
      ],
      "execution_count": 0,
      "outputs": []
    },
    {
      "cell_type": "code",
      "metadata": {
        "id": "8N27_fhUKuJn",
        "colab_type": "code",
        "outputId": "835c2a62-eabe-4cd3-854d-854b08b7687e",
        "colab": {
          "base_uri": "https://localhost:8080/",
          "height": 272
        }
      },
      "source": [
        "df_inst['closure_type'].unique()"
      ],
      "execution_count": 0,
      "outputs": [
        {
          "output_type": "execute_result",
          "data": {
            "text/plain": [
              "array(['Death', 'Parole Granted', 'Work Release Granted',\n",
              "       'Discharged - Expiration of Sentence', 'Released to OWI Continuum',\n",
              "       'Work Unit - Transfer from County Jail Contract',\n",
              "       'Paroled w/Immediate Discharge',\n",
              "       'Work Unit - Transfer from Violator Program', 'Revoked',\n",
              "       'Probation Granted - Reconsideration of Sentence',\n",
              "       'Work Unit - Prison to Corrections Compact',\n",
              "       'Terminated by Appeal - Conviction Overturned',\n",
              "       'Paroled to Detainer - INS', 'Work Unit - Field to Field',\n",
              "       'Paroled to Detainer - Out of State',\n",
              "       'Work Unit - Prison to Field',\n",
              "       'Paroled to Detainer - U.S. Marshall', 'none from supervision',\n",
              "       'Released to Special Sentence',\n",
              "       'Work Unit - Prison to Residential', 'Released on Bond',\n",
              "       'Paroled to Detainer - Iowa'], dtype=object)"
            ]
          },
          "metadata": {
            "tags": []
          },
          "execution_count": 71
        }
      ]
    },
    {
      "cell_type": "code",
      "metadata": {
        "id": "znxwWOSmK8_F",
        "colab_type": "code",
        "colab": {}
      },
      "source": [
        "#Created new variable that records the reason for an inmate leaving prison. Created to replace \"closure_type\" column and make it more concise.\n",
        "df_inst['Exit'] = df_inst[\"closure_type\"].fillna('0').map({\n",
        "    '0' : \"N/A\",\n",
        "    'Death' : 'Death',\n",
        "    'Work Release Granted' : 'Working',\n",
        "    'Discharged - Expiration of Sentence' : 'End of Sentence',\n",
        "    'Released to OWI Continuum' : 'Sent to Treatment Program',\n",
        "    'Work Unit - Transfer from County Jail Contract' : 'Working',\n",
        "    'Work Unit - Transfer from Violator Program' : 'Working',\n",
        "    'Revoked' : 'Revoked',\n",
        "    'Probation Granted - Reconsideration of Sentence' : 'Probation Granted',\n",
        "    'Work Unit - Prison to Corrections Compact' : 'Working',\n",
        "    'Terminated by Appeal - Conviction Overturned' : 'Convition Overturned',\n",
        "    'Work Unit - Field to Field' : 'Working',\n",
        "    'Work Unit - Prison to Field' : 'Working',\n",
        "    'none from supervision' : \"N/A\",\n",
        "    'Released to Special Sentence' : 'Released: Special Sentence',\n",
        "    'Work Unit - Prison to Residential' : 'Working',\n",
        "    'Released on Bond' : 'Released on Bond'\n",
        "})\n",
        "\n",
        "df_inst['Exit'].fillna(\"Parol\", inplace = True)"
      ],
      "execution_count": 0,
      "outputs": []
    },
    {
      "cell_type": "code",
      "metadata": {
        "id": "2cyQT6dyLrK-",
        "colab_type": "code",
        "colab": {}
      },
      "source": [
        "def mapper(date):\n",
        "  dct = {\n",
        "      1:\"January\",\n",
        "      2:\"February\",\n",
        "      3:\"March\",\n",
        "      4:\"April\",\n",
        "      5:\"May\",\n",
        "      6:\"June\",\n",
        "      7:\"July\",\n",
        "      8:\"August\",\n",
        "      9:\"September\",\n",
        "      10:\"October\",\n",
        "      11:\"November\",\n",
        "      12:\"September\"\n",
        "  }\n",
        "  return dct[date.month]\n",
        "\n",
        "\n",
        "df_inst['release_month'] = pd.to_datetime(df_inst['release_date'], format = \"%Y-%m-%d\").map(mapper)\n"
      ],
      "execution_count": 0,
      "outputs": []
    },
    {
      "cell_type": "code",
      "metadata": {
        "id": "vABSpxynM_lA",
        "colab_type": "code",
        "colab": {}
      },
      "source": [
        "#Dropping redudant / useless columns\n",
        "df_inst.drop(['record_id', \n",
        "              'release_date', \n",
        "              'closure_type', \n",
        "              'offender_first_name',\n",
        "              'offender_middle_name', \n",
        "              'offender_last_name',\n",
        "              'offender_date_of_birth', \n",
        "              'offense_code',\n",
        "              'offender_suffix'],\n",
        "              axis=1, inplace=True)"
      ],
      "execution_count": 0,
      "outputs": []
    },
    {
      "cell_type": "code",
      "metadata": {
        "id": "08s59YDeOodo",
        "colab_type": "code",
        "colab": {}
      },
      "source": [
        "def mapper(months):\n",
        "  return round(months, 2)\n",
        "\n",
        "df_inst['months_served'] = (df_inst[\"months_served\"].astype(float)).map(mapper)"
      ],
      "execution_count": 0,
      "outputs": []
    },
    {
      "cell_type": "code",
      "metadata": {
        "id": "gqsupJU1PLUw",
        "colab_type": "code",
        "colab": {}
      },
      "source": [
        "# df_inst.drop(columns=[\"Unnamed: 0\"], inplace=True)\n",
        "\n",
        "def mapper(months):\n",
        "  return round(months)/12\n",
        "def rounder(num):\n",
        "  return round(num)\n",
        "\n",
        "df_inst['age_at_admission'] = df_inst['age_at_release'].astype(int) - df_inst['months_served'].map(mapper)\n",
        "df_inst['age_at_admission'] = df_inst['age_at_admission'].map(rounder)"
      ],
      "execution_count": 0,
      "outputs": []
    },
    {
      "cell_type": "code",
      "metadata": {
        "id": "nbIN2vHG6UXm",
        "colab_type": "code",
        "colab": {}
      },
      "source": [
        "df_inst['offense_type'].fillna(\"Other\", inplace=True)\n",
        "df_inst['jurisdiction'].fillna(\"Other\", inplace=True)"
      ],
      "execution_count": 0,
      "outputs": []
    },
    {
      "cell_type": "code",
      "metadata": {
        "id": "wxeAc-By642L",
        "colab_type": "code",
        "colab": {}
      },
      "source": [
        "df_inst[\"time served\"] = df_inst[\"months_served\"]**.5"
      ],
      "execution_count": 0,
      "outputs": []
    },
    {
      "cell_type": "code",
      "metadata": {
        "id": "rqJwvDj2L5x1",
        "colab_type": "code",
        "colab": {}
      },
      "source": [
        "df_inst.to_csv(\"dataframe.csv\")"
      ],
      "execution_count": 0,
      "outputs": []
    },
    {
      "cell_type": "code",
      "metadata": {
        "id": "KRz_lFT3MHYC",
        "colab_type": "code",
        "outputId": "038a0eac-0244-42bd-ef4d-e7ac6ac07608",
        "colab": {
          "base_uri": "https://localhost:8080/",
          "height": 122
        }
      },
      "source": [
        "from google.colab import drive\n",
        "drive.mount('/content/drive')"
      ],
      "execution_count": 0,
      "outputs": [
        {
          "output_type": "stream",
          "text": [
            "Go to this URL in a browser: https://accounts.google.com/o/oauth2/auth?client_id=947318989803-6bn6qk8qdgf4n4g3pfee6491hc0brc4i.apps.googleusercontent.com&redirect_uri=urn%3aietf%3awg%3aoauth%3a2.0%3aoob&response_type=code&scope=email%20https%3a%2f%2fwww.googleapis.com%2fauth%2fdocs.test%20https%3a%2f%2fwww.googleapis.com%2fauth%2fdrive%20https%3a%2f%2fwww.googleapis.com%2fauth%2fdrive.photos.readonly%20https%3a%2f%2fwww.googleapis.com%2fauth%2fpeopleapi.readonly\n",
            "\n",
            "Enter your authorization code:\n",
            "··········\n",
            "Mounted at /content/drive\n"
          ],
          "name": "stdout"
        }
      ]
    },
    {
      "cell_type": "code",
      "metadata": {
        "id": "o5GuIvdd8o1p",
        "colab_type": "code",
        "outputId": "0d6fd196-21b3-4335-f369-69b923108488",
        "colab": {
          "base_uri": "https://localhost:8080/",
          "height": 34
        }
      },
      "source": [
        "ls"
      ],
      "execution_count": 0,
      "outputs": [
        {
          "output_type": "stream",
          "text": [
            "dataframe.csv  \u001b[0m\u001b[01;34mdrive\u001b[0m/  \u001b[01;34msample_data\u001b[0m/\n"
          ],
          "name": "stdout"
        }
      ]
    },
    {
      "cell_type": "code",
      "metadata": {
        "id": "9zkvCvTrMOPY",
        "colab_type": "code",
        "colab": {}
      },
      "source": [
        "mv dataframe.csv drive/My\\ Drive/301Final\n"
      ],
      "execution_count": 0,
      "outputs": []
    },
    {
      "cell_type": "code",
      "metadata": {
        "id": "OzyWAasIMWRf",
        "colab_type": "code",
        "colab": {}
      },
      "source": [
        "# cd ../../"
      ],
      "execution_count": 0,
      "outputs": []
    },
    {
      "cell_type": "code",
      "metadata": {
        "id": "8fojWklHMatT",
        "colab_type": "code",
        "colab": {}
      },
      "source": [
        "# ls"
      ],
      "execution_count": 0,
      "outputs": []
    }
  ]
}