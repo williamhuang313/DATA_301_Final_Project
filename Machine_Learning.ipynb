{
  "nbformat": 4,
  "nbformat_minor": 0,
  "metadata": {
    "colab": {
      "name": "Machine Learning",
      "provenance": []
    },
    "kernelspec": {
      "name": "python3",
      "display_name": "Python 3"
    }
  },
  "cells": [
    {
      "cell_type": "code",
      "metadata": {
        "id": "s0UnZa0s2_gS",
        "colab_type": "code",
        "colab": {}
      },
      "source": [
        "import pandas as pd \n",
        "import matplotlib.pyplot as plt\n",
        "from sklearn.model_selection import cross_val_score\n",
        "\n",
        "\n"
      ],
      "execution_count": 0,
      "outputs": []
    },
    {
      "cell_type": "code",
      "metadata": {
        "id": "uiIot-KTBnap",
        "colab_type": "code",
        "colab": {}
      },
      "source": [
        "# from google.colab import drive\n",
        "# drive.mount('/content/drive')"
      ],
      "execution_count": 0,
      "outputs": []
    },
    {
      "cell_type": "code",
      "metadata": {
        "id": "HTdiCT7nByVl",
        "colab_type": "code",
        "colab": {}
      },
      "source": [
        "# cd drive/My\\ Drive/301Final"
      ],
      "execution_count": 0,
      "outputs": []
    },
    {
      "cell_type": "code",
      "metadata": {
        "id": "PrUxMOhdyw2s",
        "colab_type": "code",
        "colab": {}
      },
      "source": [
        "# cp df.csv dfcp.csv"
      ],
      "execution_count": 0,
      "outputs": []
    },
    {
      "cell_type": "code",
      "metadata": {
        "id": "oyAn72jOy2ad",
        "colab_type": "code",
        "colab": {}
      },
      "source": [
        "# mv dfcp.csv ../../../"
      ],
      "execution_count": 0,
      "outputs": []
    },
    {
      "cell_type": "code",
      "metadata": {
        "id": "cfl1vefDy4h7",
        "colab_type": "code",
        "colab": {}
      },
      "source": [
        "# cd ../../../"
      ],
      "execution_count": 0,
      "outputs": []
    },
    {
      "cell_type": "code",
      "metadata": {
        "id": "MQ-mEMWbCEkr",
        "colab_type": "code",
        "colab": {}
      },
      "source": [
        "df = pd.read_csv(\"dfcp.csv\")"
      ],
      "execution_count": 0,
      "outputs": []
    },
    {
      "cell_type": "code",
      "metadata": {
        "id": "1douxpeZCMlB",
        "colab_type": "code",
        "outputId": "eacdacea-ac5a-46a3-9197-a3b40dd47b3d",
        "colab": {
          "base_uri": "https://localhost:8080/",
          "height": 377
        }
      },
      "source": [
        "# sample with regression first \n",
        "df.head()\n"
      ],
      "execution_count": 0,
      "outputs": [
        {
          "output_type": "execute_result",
          "data": {
            "text/html": [
              "<div>\n",
              "<style scoped>\n",
              "    .dataframe tbody tr th:only-of-type {\n",
              "        vertical-align: middle;\n",
              "    }\n",
              "\n",
              "    .dataframe tbody tr th {\n",
              "        vertical-align: top;\n",
              "    }\n",
              "\n",
              "    .dataframe thead th {\n",
              "        text-align: right;\n",
              "    }\n",
              "</style>\n",
              "<table border=\"1\" class=\"dataframe\">\n",
              "  <thead>\n",
              "    <tr style=\"text-align: right;\">\n",
              "      <th></th>\n",
              "      <th>Unnamed: 0</th>\n",
              "      <th>offender_number</th>\n",
              "      <th>fiscal_year_released</th>\n",
              "      <th>supervision_status</th>\n",
              "      <th>institution_name</th>\n",
              "      <th>sex</th>\n",
              "      <th>race_ethnicity</th>\n",
              "      <th>age_at_release</th>\n",
              "      <th>offense_class</th>\n",
              "      <th>offense_description</th>\n",
              "      <th>offense_type</th>\n",
              "      <th>offense_subtype</th>\n",
              "      <th>jurisdiction</th>\n",
              "      <th>admission_date</th>\n",
              "      <th>months_served</th>\n",
              "      <th>institution_type</th>\n",
              "      <th>Exit</th>\n",
              "      <th>release_month</th>\n",
              "      <th>age_at_admission</th>\n",
              "      <th>time served</th>\n",
              "    </tr>\n",
              "  </thead>\n",
              "  <tbody>\n",
              "    <tr>\n",
              "      <th>0</th>\n",
              "      <td>0</td>\n",
              "      <td>1000998</td>\n",
              "      <td>2015</td>\n",
              "      <td>Prison</td>\n",
              "      <td>Anamosa State Penitentiary</td>\n",
              "      <td>Male</td>\n",
              "      <td>White</td>\n",
              "      <td>56</td>\n",
              "      <td>B Felony</td>\n",
              "      <td>MURDER 2ND - 85%</td>\n",
              "      <td>Violent</td>\n",
              "      <td>Murder/Manslaughter</td>\n",
              "      <td>Montgomery</td>\n",
              "      <td>1997-11-25T00:00:00.000</td>\n",
              "      <td>202.96</td>\n",
              "      <td>Maximum</td>\n",
              "      <td>Death</td>\n",
              "      <td>October</td>\n",
              "      <td>39</td>\n",
              "      <td>1.701144</td>\n",
              "    </tr>\n",
              "    <tr>\n",
              "      <th>1</th>\n",
              "      <td>1</td>\n",
              "      <td>100134</td>\n",
              "      <td>2012</td>\n",
              "      <td>Prison</td>\n",
              "      <td>Mount Pleasant Correctional Facility</td>\n",
              "      <td>Male</td>\n",
              "      <td>White</td>\n",
              "      <td>47</td>\n",
              "      <td>D Felony</td>\n",
              "      <td>THEFT 2ND DEGREE</td>\n",
              "      <td>Property</td>\n",
              "      <td>Theft</td>\n",
              "      <td>Johnson</td>\n",
              "      <td>2011-01-18T00:00:00.000</td>\n",
              "      <td>8.49</td>\n",
              "      <td>Minimum</td>\n",
              "      <td>Parol</td>\n",
              "      <td>October</td>\n",
              "      <td>46</td>\n",
              "      <td>1.238485</td>\n",
              "    </tr>\n",
              "    <tr>\n",
              "      <th>2</th>\n",
              "      <td>2</td>\n",
              "      <td>10044</td>\n",
              "      <td>2013</td>\n",
              "      <td>Prison</td>\n",
              "      <td>Mount Pleasant Correctional Facility</td>\n",
              "      <td>Male</td>\n",
              "      <td>White</td>\n",
              "      <td>52</td>\n",
              "      <td>D Felony</td>\n",
              "      <td>Possession of a Controlled Substance - 3rd and...</td>\n",
              "      <td>Drug</td>\n",
              "      <td>Drug Possession</td>\n",
              "      <td>Henry</td>\n",
              "      <td>2012-02-06T00:00:00.000</td>\n",
              "      <td>7.50</td>\n",
              "      <td>Minimum</td>\n",
              "      <td>Working</td>\n",
              "      <td>September</td>\n",
              "      <td>51</td>\n",
              "      <td>1.223224</td>\n",
              "    </tr>\n",
              "    <tr>\n",
              "      <th>3</th>\n",
              "      <td>3</td>\n",
              "      <td>100446</td>\n",
              "      <td>2010</td>\n",
              "      <td>Prison</td>\n",
              "      <td>Mount Pleasant Correctional Facility</td>\n",
              "      <td>Female</td>\n",
              "      <td>White</td>\n",
              "      <td>44</td>\n",
              "      <td>Aggravated Misdemeanor</td>\n",
              "      <td>OPER VEH WH INT (OWI) / AGR MISD / 2ND OFF -</td>\n",
              "      <td>Public Order</td>\n",
              "      <td>OWI</td>\n",
              "      <td>Polk</td>\n",
              "      <td>2009-06-24T00:00:00.000</td>\n",
              "      <td>9.47</td>\n",
              "      <td>Minimum</td>\n",
              "      <td>End of Sentence</td>\n",
              "      <td>April</td>\n",
              "      <td>43</td>\n",
              "      <td>1.252088</td>\n",
              "    </tr>\n",
              "    <tr>\n",
              "      <th>4</th>\n",
              "      <td>4</td>\n",
              "      <td>100467</td>\n",
              "      <td>2016</td>\n",
              "      <td>Prison</td>\n",
              "      <td>Anamosa State Penitentiary</td>\n",
              "      <td>Male</td>\n",
              "      <td>White</td>\n",
              "      <td>51</td>\n",
              "      <td>D Felony</td>\n",
              "      <td>Possession of a Controlled Substance - 3rd and...</td>\n",
              "      <td>Drug</td>\n",
              "      <td>Drug Possession</td>\n",
              "      <td>Polk</td>\n",
              "      <td>2015-06-12T00:00:00.000</td>\n",
              "      <td>12.30</td>\n",
              "      <td>Maximum</td>\n",
              "      <td>Parol</td>\n",
              "      <td>June</td>\n",
              "      <td>50</td>\n",
              "      <td>1.285259</td>\n",
              "    </tr>\n",
              "  </tbody>\n",
              "</table>\n",
              "</div>"
            ],
            "text/plain": [
              "   Unnamed: 0  offender_number  ...  age_at_admission time served\n",
              "0           0          1000998  ...                39    1.701144\n",
              "1           1           100134  ...                46    1.238485\n",
              "2           2            10044  ...                51    1.223224\n",
              "3           3           100446  ...                43    1.252088\n",
              "4           4           100467  ...                50    1.285259\n",
              "\n",
              "[5 rows x 20 columns]"
            ]
          },
          "metadata": {
            "tags": []
          },
          "execution_count": 87
        }
      ]
    },
    {
      "cell_type": "code",
      "metadata": {
        "id": "ilARkuInEyr3",
        "colab_type": "code",
        "colab": {}
      },
      "source": [
        ""
      ],
      "execution_count": 0,
      "outputs": []
    },
    {
      "cell_type": "code",
      "metadata": {
        "id": "_btSq1kNzcp1",
        "colab_type": "code",
        "colab": {}
      },
      "source": [
        "from sklearn.compose import make_column_transformer\n",
        "from sklearn.preprocessing import StandardScaler, OneHotEncoder\n",
        "from sklearn.linear_model import LinearRegression\n",
        "from sklearn.pipeline import make_pipeline\n",
        "from sklearn.neighbors import KNeighborsRegressor\n",
        "from sklearn.metrics import mean_squared_error\n",
        "import numpy as np\n"
      ],
      "execution_count": 0,
      "outputs": []
    },
    {
      "cell_type": "code",
      "metadata": {
        "id": "Y2NZVuLiFmFo",
        "colab_type": "code",
        "colab": {}
      },
      "source": [
        "# single predictor regression models \n",
        "\n",
        "\n",
        "simple_reg_models = {\"Predictor\":[],\n",
        "                     \"RMSE\":[],\n",
        "                     \"Model\":[]}\n",
        "\n",
        "X_cat = ['offense_type', 'sex', 'institution_name', 'offense_type', \n",
        "          'offense_subtype', 'jurisdiction']#, 'release_month']\n",
        "X_quant = ['age_at_admission']\n",
        "\n",
        "y_train = df['time served'].copy()\n",
        "\n",
        "\n",
        "def make_cat_model(x, y_train):\n",
        "\n",
        "\n",
        "  X_train = df[[x]]\n",
        "\n",
        "  ct = make_column_transformer(\n",
        "      (OneHotEncoder(handle_unknown=\"ignore\"), [x]),\n",
        "      remainder=\"passthrough\"\n",
        "  )\n",
        "  pipeline = make_pipeline(\n",
        "      ct,\n",
        "      LinearRegression()\n",
        "  )\n",
        "\n",
        "  pipeline.fit(X_train, y_train)\n",
        "  rmse = (-cross_val_score(pipeline,\n",
        "                          X=X_train,\n",
        "                          y=y_train,\n",
        "                          cv=10,\n",
        "                          scoring=\"neg_mean_squared_error\"\n",
        "  ).mean())**.5\n",
        "\n",
        "\n",
        "  simple_reg_models['Predictor'].append(x)\n",
        "  simple_reg_models['RMSE'].append(rmse)\n",
        "  simple_reg_models['Model'].append(pipeline)\n",
        "\n",
        "\n",
        "def make_quant_model(x, y_train):\n",
        "  X_train = df[[x]]\n",
        "\n",
        "  model = LinearRegression()\n",
        "  model.fit(X_train, y_train)\n",
        "  y_train_ = model.predict(X_train)\n",
        "\n",
        "\n",
        "  rmse = (-cross_val_score(model,\n",
        "                          X=X_train,\n",
        "                          y=y_train,\n",
        "                          cv=10,\n",
        "                          scoring=\"neg_mean_squared_error\"\n",
        "  ).mean())**.5\n",
        "\n",
        "\n",
        "  simple_reg_models['Predictor'].append(x)\n",
        "  simple_reg_models['RMSE'].append(rmse)\n",
        "  simple_reg_models['Model'].append(model)\n",
        "\n",
        "\n",
        "\n",
        "for i in X_cat:\n",
        "  make_cat_model(i, y_train)\n",
        "for i in X_quant:\n",
        "  make_quant_model(i, y_train)\n",
        "\n",
        "\n",
        "  "
      ],
      "execution_count": 0,
      "outputs": []
    },
    {
      "cell_type": "code",
      "metadata": {
        "id": "wZybKYfD30A-",
        "colab_type": "code",
        "outputId": "0ef76aa4-9ba5-46b5-d87d-602c65f793cd",
        "colab": {
          "base_uri": "https://localhost:8080/",
          "height": 392
        }
      },
      "source": [
        "df_simple_reg = pd.DataFrame(simple_reg_models)\n",
        "df_simple_reg.plot.bar(x=\"Predictor\", y=\"RMSE\")\n",
        "plt.title(\"Simple Predictors\")"
      ],
      "execution_count": 0,
      "outputs": [
        {
          "output_type": "execute_result",
          "data": {
            "text/plain": [
              "Text(0.5, 1.0, 'Simple Predictors')"
            ]
          },
          "metadata": {
            "tags": []
          },
          "execution_count": 90
        },
        {
          "output_type": "display_data",
          "data": {
            "image/png": "[encoded data removed]",
            "text/plain": [
              "<Figure size 432x288 with 1 Axes>"
            ]
          },
          "metadata": {
            "tags": []
          }
        }
      ]
    },
    {
      "cell_type": "code",
      "metadata": {
        "id": "RfaqMOykp0rf",
        "colab_type": "code",
        "outputId": "94eadcd2-00e6-42ab-97f2-639108f115fe",
        "colab": {
          "base_uri": "https://localhost:8080/",
          "height": 68
        }
      },
      "source": [
        "print(\"Simple Regression Model With the Lowest RMSE: \\n\")\n",
        "index = df_simple_reg['RMSE'].idxmin()\n",
        "print(df_simple_reg['Predictor'][index], \": \", df_simple_reg['RMSE'][index])"
      ],
      "execution_count": 0,
      "outputs": [
        {
          "output_type": "stream",
          "text": [
            "Simple Regression Model With the Lowest RMSE: \n",
            "\n",
            "offense_subtype :  0.13446394204977405\n"
          ],
          "name": "stdout"
        }
      ]
    },
    {
      "cell_type": "code",
      "metadata": {
        "id": "rkFnLL8wzvH-",
        "colab_type": "code",
        "colab": {}
      },
      "source": [
        "best_single_reg_model = df_simple_reg['Model'][index]"
      ],
      "execution_count": 0,
      "outputs": []
    },
    {
      "cell_type": "code",
      "metadata": {
        "id": "4imlsB0X8PsE",
        "colab_type": "code",
        "colab": {}
      },
      "source": [
        "# try simple KNearest for all types \n",
        "\n",
        "\n",
        "simple_knn_models = {\"Predictor\":[],\n",
        "                     'K':[],\n",
        "                     \"RMSE\":[],\n",
        "                     \"Model\":[]}\n",
        "\n",
        "X_cat = ['offense_type', 'sex', 'institution_name', 'offense_type', \n",
        "          'offense_subtype', 'jurisdiction', 'release_month']\n",
        "X_quant = ['age_at_admission']\n",
        "\n",
        "y_train = df['time served']\n",
        "\n",
        "\n",
        "def make_cat_model(x, y_train):\n",
        "\n",
        "  \n",
        "  X_train = df[[x]]\n",
        "\n",
        "  ct = make_column_transformer(\n",
        "      (OneHotEncoder(handle_unknown=\"ignore\"), [x]),\n",
        "      remainder=\"passthrough\"\n",
        "  )\n",
        "\n",
        "  test = {\"Predictor\":[],\n",
        "          'K':[],\n",
        "          \"RMSE\":[],\n",
        "          \"Model\":[]}\n",
        "  for i in range(5, 51):\n",
        "\n",
        "    pipeline = make_pipeline(\n",
        "        ct,\n",
        "        KNeighborsRegressor(n_neighbors=i)\n",
        "    )\n",
        "\n",
        "    pipeline.fit(X_train, y_train)\n",
        "\n",
        "    rmse = (-cross_val_score(pipeline,\n",
        "                          X=X_train,\n",
        "                          y=y_train,\n",
        "                          cv=10,\n",
        "                          scoring=\"neg_mean_squared_error\"\n",
        "    ).mean())**.5\n",
        "    test[\"Predictor\"].append(x)\n",
        "    test[\"K\"].append(i)\n",
        "    test[\"RMSE\"].append(rmse)\n",
        "    test[\"Model\"].append(pipeline)\n",
        "\n",
        "  df_test = pd.DataFrame(test)\n",
        "  smallest_error = df_test['RMSE'].idxmin()\n",
        "\n",
        "\n",
        "  simple_knn_models['Predictor'].append(x)\n",
        "  simple_knn_models['K'].append(df_test[\"K\"][smallest_error])\n",
        "  simple_knn_models['RMSE'].append(df_test[\"RMSE\"][smallest_error])\n",
        "  simple_knn_models['Model'].append(df_test[\"Model\"][smallest_error])\n",
        "\n",
        "\n",
        "\n",
        "def make_quant_model(x, y_train):\n",
        "  \n",
        "  X_train = df[[x]]\n",
        "\n",
        "  ct = make_column_transformer(\n",
        "      (StandardScaler(), [x]),\n",
        "      remainder=\"passthrough\"\n",
        "  )\n",
        "\n",
        "  test = {\"Predictor\":[],\n",
        "          'K':[],\n",
        "          \"RMSE\":[],\n",
        "          \"Model\":[]}\n",
        "  for i in range(5, 51):\n",
        "\n",
        "    pipeline = make_pipeline(\n",
        "        ct,\n",
        "        KNeighborsRegressor(n_neighbors=i)\n",
        "    )\n",
        "\n",
        "    pipeline.fit(X_train, y_train)\n",
        "\n",
        "    rmse = (-cross_val_score(pipeline,\n",
        "                          X=X_train,\n",
        "                          y=y_train,\n",
        "                          cv=10,\n",
        "                          scoring=\"neg_mean_squared_error\"\n",
        "    ).mean())**.5\n",
        "    test[\"Predictor\"].append(x)\n",
        "    test[\"K\"].append(i)\n",
        "    test[\"RMSE\"].append(rmse)\n",
        "    test[\"Model\"].append(pipeline)\n",
        "\n",
        "  df_test = pd.DataFrame(test)\n",
        "  smallest_error = df_test['RMSE'].idxmin()\n",
        "\n",
        "\n",
        "  simple_knn_models['Predictor'].append(x)\n",
        "  simple_knn_models['K'].append(df_test[\"K\"][smallest_error])\n",
        "  simple_knn_models['RMSE'].append(df_test[\"RMSE\"][smallest_error])\n",
        "  simple_knn_models['Model'].append(df_test[\"Model\"][smallest_error])\n",
        "\n",
        "  \n",
        "\n",
        "for i in X_cat:\n",
        "  make_cat_model(i, y_train)\n",
        "for i in X_quant:\n",
        "  make_quant_model(i, y_train)\n",
        "\n",
        "\n",
        "  "
      ],
      "execution_count": 0,
      "outputs": []
    },
    {
      "cell_type": "code",
      "metadata": {
        "id": "kbf66NbF_5_Z",
        "colab_type": "code",
        "outputId": "ad8f4e5d-f9ab-417e-e4a9-c78a6625c9aa",
        "colab": {
          "base_uri": "https://localhost:8080/",
          "height": 392
        }
      },
      "source": [
        "df_knn_simp = pd.DataFrame(simple_knn_models)\n",
        "df_knn_simp.plot.bar(\"Predictor\", \"RMSE\")\n",
        "plt.title(\"Most Optimal Simple KNN Model \")"
      ],
      "execution_count": 0,
      "outputs": [
        {
          "output_type": "execute_result",
          "data": {
            "text/plain": [
              "Text(0.5, 1.0, 'Most Optimal Simple KNN Model ')"
            ]
          },
          "metadata": {
            "tags": []
          },
          "execution_count": 94
        },
        {
          "output_type": "display_data",
          "data": {
            "image/png": "[encoded data removed]",
            "text/plain": [
              "<Figure size 432x288 with 1 Axes>"
            ]
          },
          "metadata": {
            "tags": []
          }
        }
      ]
    },
    {
      "cell_type": "code",
      "metadata": {
        "id": "_c6hkHzMJzus",
        "colab_type": "code",
        "outputId": "02963e3d-b620-4f77-ec8e-5a7f304f0247",
        "colab": {
          "base_uri": "https://localhost:8080/",
          "height": 297
        }
      },
      "source": [
        "df_knn_simp"
      ],
      "execution_count": 0,
      "outputs": [
        {
          "output_type": "execute_result",
          "data": {
            "text/html": [
              "<div>\n",
              "<style scoped>\n",
              "    .dataframe tbody tr th:only-of-type {\n",
              "        vertical-align: middle;\n",
              "    }\n",
              "\n",
              "    .dataframe tbody tr th {\n",
              "        vertical-align: top;\n",
              "    }\n",
              "\n",
              "    .dataframe thead th {\n",
              "        text-align: right;\n",
              "    }\n",
              "</style>\n",
              "<table border=\"1\" class=\"dataframe\">\n",
              "  <thead>\n",
              "    <tr style=\"text-align: right;\">\n",
              "      <th></th>\n",
              "      <th>Predictor</th>\n",
              "      <th>K</th>\n",
              "      <th>RMSE</th>\n",
              "      <th>Model</th>\n",
              "    </tr>\n",
              "  </thead>\n",
              "  <tbody>\n",
              "    <tr>\n",
              "      <th>0</th>\n",
              "      <td>offense_type</td>\n",
              "      <td>49</td>\n",
              "      <td>0.145795</td>\n",
              "      <td>(ColumnTransformer(n_jobs=None, remainder='pas...</td>\n",
              "    </tr>\n",
              "    <tr>\n",
              "      <th>1</th>\n",
              "      <td>sex</td>\n",
              "      <td>41</td>\n",
              "      <td>0.153356</td>\n",
              "      <td>(ColumnTransformer(n_jobs=None, remainder='pas...</td>\n",
              "    </tr>\n",
              "    <tr>\n",
              "      <th>2</th>\n",
              "      <td>institution_name</td>\n",
              "      <td>35</td>\n",
              "      <td>0.150334</td>\n",
              "      <td>(ColumnTransformer(n_jobs=None, remainder='pas...</td>\n",
              "    </tr>\n",
              "    <tr>\n",
              "      <th>3</th>\n",
              "      <td>offense_type</td>\n",
              "      <td>49</td>\n",
              "      <td>0.145795</td>\n",
              "      <td>(ColumnTransformer(n_jobs=None, remainder='pas...</td>\n",
              "    </tr>\n",
              "    <tr>\n",
              "      <th>4</th>\n",
              "      <td>offense_subtype</td>\n",
              "      <td>15</td>\n",
              "      <td>0.136028</td>\n",
              "      <td>(ColumnTransformer(n_jobs=None, remainder='pas...</td>\n",
              "    </tr>\n",
              "    <tr>\n",
              "      <th>5</th>\n",
              "      <td>jurisdiction</td>\n",
              "      <td>50</td>\n",
              "      <td>0.156120</td>\n",
              "      <td>(ColumnTransformer(n_jobs=None, remainder='pas...</td>\n",
              "    </tr>\n",
              "    <tr>\n",
              "      <th>6</th>\n",
              "      <td>release_month</td>\n",
              "      <td>49</td>\n",
              "      <td>0.155040</td>\n",
              "      <td>(ColumnTransformer(n_jobs=None, remainder='pas...</td>\n",
              "    </tr>\n",
              "    <tr>\n",
              "      <th>7</th>\n",
              "      <td>age_at_admission</td>\n",
              "      <td>35</td>\n",
              "      <td>0.136801</td>\n",
              "      <td>(ColumnTransformer(n_jobs=None, remainder='pas...</td>\n",
              "    </tr>\n",
              "  </tbody>\n",
              "</table>\n",
              "</div>"
            ],
            "text/plain": [
              "          Predictor  ...                                              Model\n",
              "0      offense_type  ...  (ColumnTransformer(n_jobs=None, remainder='pas...\n",
              "1               sex  ...  (ColumnTransformer(n_jobs=None, remainder='pas...\n",
              "2  institution_name  ...  (ColumnTransformer(n_jobs=None, remainder='pas...\n",
              "3      offense_type  ...  (ColumnTransformer(n_jobs=None, remainder='pas...\n",
              "4   offense_subtype  ...  (ColumnTransformer(n_jobs=None, remainder='pas...\n",
              "5      jurisdiction  ...  (ColumnTransformer(n_jobs=None, remainder='pas...\n",
              "6     release_month  ...  (ColumnTransformer(n_jobs=None, remainder='pas...\n",
              "7  age_at_admission  ...  (ColumnTransformer(n_jobs=None, remainder='pas...\n",
              "\n",
              "[8 rows x 4 columns]"
            ]
          },
          "metadata": {
            "tags": []
          },
          "execution_count": 95
        }
      ]
    },
    {
      "cell_type": "code",
      "metadata": {
        "id": "-Yd4C9m1OGej",
        "colab_type": "code",
        "outputId": "6eada257-66ae-4472-c3ca-53bc2d0c60a6",
        "colab": {
          "base_uri": "https://localhost:8080/",
          "height": 85
        }
      },
      "source": [
        "print(\"Simple KNN Model With the Lowest RMSEn: \\n\")\n",
        "index = df_knn_simp['RMSE'].idxmin()\n",
        "print(df_knn_simp['K'][index], \"          : \", df_knn_simp['RMSE'][index])\n",
        "print(\"Predictors   : \", df_knn_simp['Predictor'][index])"
      ],
      "execution_count": 0,
      "outputs": [
        {
          "output_type": "stream",
          "text": [
            "Simple KNN Model With the Lowest RMSEn: \n",
            "\n",
            "15           :  0.13602826853016461\n",
            "Predictors   :  offense_subtype\n"
          ],
          "name": "stdout"
        }
      ]
    },
    {
      "cell_type": "code",
      "metadata": {
        "id": "_J9_xr6VOaht",
        "colab_type": "code",
        "colab": {}
      },
      "source": [
        "best_simple_knn_model = df_knn_simp['Model'][index]"
      ],
      "execution_count": 0,
      "outputs": []
    },
    {
      "cell_type": "code",
      "metadata": {
        "id": "XJQFbnnoBw6D",
        "colab_type": "code",
        "colab": {}
      },
      "source": [
        "# all quant\n",
        "\n",
        "# quant_knearest_models = pd.Series(index=range(5,51))\n",
        "quant_knearest_models = {\"K Neighbors\":[],\n",
        "                         \"RMSE\":[],\n",
        "                         \"Model\":[]}\n",
        "\n",
        "X_vars = ['age_at_admission']\n",
        "X_train = df[X_vars]\n",
        "\n",
        "ct = make_column_transformer(\n",
        "    (StandardScaler(), ['age_at_admission']),\n",
        "    remainder=\"drop\"\n",
        ")\n",
        "\n",
        "\n",
        "for i in range(5, 51):\n",
        "\n",
        "  pipeline = make_pipeline(\n",
        "      ct, \n",
        "      KNeighborsRegressor(n_neighbors=i)\n",
        "  )\n",
        "\n",
        "  pipeline.fit(X_train, y_train)\n",
        "\n",
        "\n",
        "\n",
        "  rmse = (-cross_val_score(pipeline,\n",
        "                          X=X_train,\n",
        "                          y=y_train,\n",
        "                          cv=10,\n",
        "                          scoring=\"neg_mean_squared_error\"\n",
        "  ).mean())**.5\n",
        "                           \n",
        "                                \n",
        "  quant_knearest_models[\"K Neighbors\"].append(i)\n",
        "  quant_knearest_models[\"RMSE\"].append(rmse)\n",
        "  quant_knearest_models['Model'].append(pipeline)\n"
      ],
      "execution_count": 0,
      "outputs": []
    },
    {
      "cell_type": "code",
      "metadata": {
        "id": "55YA63CnDBUF",
        "colab_type": "code",
        "outputId": "2bc43960-1de9-403e-d0fa-3535107befbd",
        "colab": {
          "base_uri": "https://localhost:8080/",
          "height": 312
        }
      },
      "source": [
        "df_kn_quant = pd.DataFrame(quant_knearest_models)\n",
        "df_kn_quant.plot.line(\"K Neighbors\", \"RMSE\")\n",
        "plt.title(\"Quantitative Predictors\")\n"
      ],
      "execution_count": 0,
      "outputs": [
        {
          "output_type": "execute_result",
          "data": {
            "text/plain": [
              "Text(0.5, 1.0, 'Quantitative Predictors')"
            ]
          },
          "metadata": {
            "tags": []
          },
          "execution_count": 99
        },
        {
          "output_type": "display_data",
          "data": {
            "image/png": "[encoded data removed]",
            "text/plain": [
              "<Figure size 432x288 with 1 Axes>"
            ]
          },
          "metadata": {
            "tags": []
          }
        }
      ]
    },
    {
      "cell_type": "code",
      "metadata": {
        "id": "Pz1AM22fqdZW",
        "colab_type": "code",
        "outputId": "13878d79-8031-4e29-a01f-65e74af422cf",
        "colab": {
          "base_uri": "https://localhost:8080/",
          "height": 85
        }
      },
      "source": [
        "print(\"Quantitative KNN Model With the Lowest RMSE: \\n\")\n",
        "index = df_kn_quant['RMSE'].idxmin()\n",
        "print(df_kn_quant['K Neighbors'][index], \"          : \", df_kn_quant['RMSE'][index])\n",
        "print(\"Predictors   : \", X_vars[0])"
      ],
      "execution_count": 0,
      "outputs": [
        {
          "output_type": "stream",
          "text": [
            "Quantitative KNN Model With the Lowest RMSE: \n",
            "\n",
            "35           :  0.13680062123469927\n",
            "Predictors   :  age_at_admission\n"
          ],
          "name": "stdout"
        }
      ]
    },
    {
      "cell_type": "code",
      "metadata": {
        "id": "YMaIvVFxrFII",
        "colab_type": "code",
        "colab": {}
      },
      "source": [
        "best_quant_knn_model = df_kn_quant['Model'][index]"
      ],
      "execution_count": 0,
      "outputs": []
    },
    {
      "cell_type": "code",
      "metadata": {
        "id": "i8WOwNH6GEfv",
        "colab_type": "code",
        "colab": {}
      },
      "source": [
        "# categorical \n",
        "cat_knearest_models = {\"K Neighbors\":[],\n",
        "                       \"RMSE\":[],\n",
        "                       \"Model\":[]}\n",
        "\n",
        "X_train = df[['offense_type', 'sex', 'institution_name', 'offense_type', \n",
        "          'offense_subtype', 'jurisdiction']]# 'release_month']]\n",
        "\n",
        "ct = make_column_transformer(\n",
        "    (OneHotEncoder(handle_unknown='ignore'), ['offense_type', 'sex', 'institution_name', 'offense_type', \n",
        "                       'offense_subtype', 'jurisdiction']),\n",
        "    remainder=\"drop\"\n",
        ")\n",
        "\n",
        "\n",
        "for i in range(5, 51):\n",
        "\n",
        "  pipeline = make_pipeline(\n",
        "      ct, \n",
        "      KNeighborsRegressor(n_neighbors=i)\n",
        "  )\n",
        "\n",
        "  pipeline.fit(X_train, y_train)\n",
        "\n",
        "  rmse = (-cross_val_score(pipeline,\n",
        "                          X=X_train,\n",
        "                          y=y_train,\n",
        "                          cv=10,\n",
        "                          scoring=\"neg_mean_squared_error\"\n",
        "  ).mean())**.5\n",
        "\n",
        "  cat_knearest_models[\"K Neighbors\"].append(i)\n",
        "  cat_knearest_models[\"RMSE\"].append(rmse)\n",
        "  cat_knearest_models[\"Model\"].append(pipeline)\n",
        "\n"
      ],
      "execution_count": 0,
      "outputs": []
    },
    {
      "cell_type": "code",
      "metadata": {
        "id": "XRu4rESPIXQ0",
        "colab_type": "code",
        "outputId": "972adc63-8899-46a4-ec52-c2059d6202b2",
        "colab": {
          "base_uri": "https://localhost:8080/",
          "height": 312
        }
      },
      "source": [
        "df_kn_cat = pd.DataFrame(cat_knearest_models)\n",
        "df_kn_cat.plot.line(\"K Neighbors\", \"RMSE\")\n",
        "plt.title(\"Categorical Predictors\")"
      ],
      "execution_count": 0,
      "outputs": [
        {
          "output_type": "execute_result",
          "data": {
            "text/plain": [
              "Text(0.5, 1.0, 'Categorical Predictors')"
            ]
          },
          "metadata": {
            "tags": []
          },
          "execution_count": 103
        },
        {
          "output_type": "display_data",
          "data": {
            "image/png": "[encoded data removed]",
            "text/plain": [
              "<Figure size 432x288 with 1 Axes>"
            ]
          },
          "metadata": {
            "tags": []
          }
        }
      ]
    },
    {
      "cell_type": "code",
      "metadata": {
        "id": "WJlEYkfcu779",
        "colab_type": "code",
        "outputId": "8a73e909-e653-4ac6-ffde-34d595a0109c",
        "colab": {
          "base_uri": "https://localhost:8080/",
          "height": 85
        }
      },
      "source": [
        "print(\"Categorical KNN Model With the Lowest RMSE: \\n\")\n",
        "index = df_kn_cat['RMSE'].idxmin()\n",
        "print(df_kn_cat['K Neighbors'][index], \"        : \", df_kn_cat['RMSE'][index])\n",
        "print(\"Predictors : \",'offense type,', 'sex,', 'institution name,', 'offense type,', \n",
        "          'offense subtype,', 'jurisdiction,', 'release month')"
      ],
      "execution_count": 0,
      "outputs": [
        {
          "output_type": "stream",
          "text": [
            "Categorical KNN Model With the Lowest RMSE: \n",
            "\n",
            "19         :  0.13037244516306787\n",
            "Predictors :  offense type, sex, institution name, offense type, offense subtype, jurisdiction, release month\n"
          ],
          "name": "stdout"
        }
      ]
    },
    {
      "cell_type": "code",
      "metadata": {
        "id": "nEmT28nj69Nc",
        "colab_type": "code",
        "colab": {}
      },
      "source": [
        "best_cat_knn_model = df_kn_cat['Model'][index]"
      ],
      "execution_count": 0,
      "outputs": []
    },
    {
      "cell_type": "code",
      "metadata": {
        "id": "4dmWM2KgIySN",
        "colab_type": "code",
        "colab": {}
      },
      "source": [
        "# both \n",
        "\n",
        "knearest_models = {\"K Neighbors\":[],\n",
        "                   \"RMSE\":[],\n",
        "                   \"Model\":[]}\n",
        "\n",
        "X_train_cat = ['offense_type', 'sex', 'institution_name', 'offense_subtype', 'jurisdiction']\n",
        "X_train_quant = ['age_at_admission']\n",
        "X_train = df[X_train_cat + X_train_quant].copy()\n",
        "\n",
        "ct = make_column_transformer(\n",
        "    (StandardScaler(), X_train_quant),\n",
        "    (OneHotEncoder(handle_unknown='ignore'), X_train_cat),\n",
        "    remainder=\"drop\"\n",
        ")\n",
        "\n",
        "\n",
        "for i in range(5, 51):\n",
        "\n",
        "  pipeline = make_pipeline(\n",
        "      ct, \n",
        "      KNeighborsRegressor(n_neighbors=i)\n",
        "  )\n",
        "\n",
        "  pipeline.fit(X_train, y_train)\n",
        "\n",
        "  rmse = (-cross_val_score(pipeline,\n",
        "                          X=X_train,\n",
        "                          y=y_train,\n",
        "                          cv=10,\n",
        "                          scoring=\"neg_mean_squared_error\"\n",
        "  ).mean())**.5\n",
        "\n",
        "  knearest_models[\"K Neighbors\"].append(i)\n",
        "  knearest_models[\"RMSE\"].append(rmse)\n",
        "  knearest_models[\"Model\"].append(pipeline)\n",
        "\n"
      ],
      "execution_count": 0,
      "outputs": []
    },
    {
      "cell_type": "code",
      "metadata": {
        "id": "NuXybmo9Jtx_",
        "colab_type": "code",
        "outputId": "05614ae9-abd4-4bc2-9892-b99c337818a8",
        "colab": {
          "base_uri": "https://localhost:8080/",
          "height": 312
        }
      },
      "source": [
        "df_kn = pd.DataFrame(knearest_models)\n",
        "df_kn.plot.line(\"K Neighbors\", \"RMSE\")\n",
        "plt.title(\"Mixed Predictors\")"
      ],
      "execution_count": 0,
      "outputs": [
        {
          "output_type": "execute_result",
          "data": {
            "text/plain": [
              "Text(0.5, 1.0, 'Mixed Predictors')"
            ]
          },
          "metadata": {
            "tags": []
          },
          "execution_count": 107
        },
        {
          "output_type": "display_data",
          "data": {
            "image/png": "[encoded data removed]",
            "text/plain": [
              "<Figure size 432x288 with 1 Axes>"
            ]
          },
          "metadata": {
            "tags": []
          }
        }
      ]
    },
    {
      "cell_type": "code",
      "metadata": {
        "id": "CyJiX3NUpEbZ",
        "colab_type": "code",
        "outputId": "69f908c8-59bd-4eb2-dd60-c3d6bb6e569c",
        "colab": {
          "base_uri": "https://localhost:8080/",
          "height": 102
        }
      },
      "source": [
        "print(\"Mixed KNN Model With the Lowest RMSE: \\n\")\n",
        "index = df_kn['RMSE'].idxmin()\n",
        "print(df_kn['K Neighbors'][index], \"        : \", df_kn['RMSE'][index])\n",
        "print(\"Predictors : \",'offense type,', 'sex,', 'institution name,', 'offense type,', \n",
        "          'offense subtype,', 'jurisdiction,\\n', '\\t\\tage at admission') "
      ],
      "execution_count": 0,
      "outputs": [
        {
          "output_type": "stream",
          "text": [
            "Mixed KNN Model With the Lowest RMSE: \n",
            "\n",
            "17         :  0.12045619584765109\n",
            "Predictors :  offense type, sex, institution name, offense type, offense subtype, jurisdiction,\n",
            " \t\tage at admission\n"
          ],
          "name": "stdout"
        }
      ]
    },
    {
      "cell_type": "code",
      "metadata": {
        "id": "lvJBKEat7XWj",
        "colab_type": "code",
        "colab": {}
      },
      "source": [
        "best_mixed_knn_model = df_kn['Model'][index]"
      ],
      "execution_count": 0,
      "outputs": []
    }
  ]
}